{
 "cells": [
  {
   "cell_type": "markdown",
   "metadata": {},
   "source": [
    "First we need to import the necessary classes for our ETL process."
   ]
  },
  {
   "cell_type": "code",
   "execution_count": null,
   "metadata": {},
   "outputs": [],
   "source": [
    "from ETL import BaseExtractor, BaseLoader, BaseTransformer\n",
    "import logging\n",
    "logging.getLogger().setLevel(logging.INFO)"
   ]
  },
  {
   "cell_type": "markdown",
   "metadata": {},
   "source": [
    "Set up the parameters needed. The archives parameter indicates which stackexchange archives we are going to be extracting."
   ]
  },
  {
   "cell_type": "code",
   "execution_count": null,
   "metadata": {},
   "outputs": [],
   "source": [
    "archives = ['woodworking','ai']\n",
    "username = 'ticketswap_user'\n",
    "password = 'xxx'\n",
    "server = 'ticketswap-stackexchange-dwh.csboebiw4ypn.eu-west-3.rds.amazonaws.com'\n",
    "port = '1433'\n",
    "database = 'ticketswap-stackexchange-dwh'"
   ]
  },
  {
   "cell_type": "markdown",
   "metadata": {},
   "source": [
    "First extract the data with the BaseExtractor. Because we want to download data from the stackexchange archives we use the method 'from_stackexchange'."
   ]
  },
  {
   "cell_type": "code",
   "execution_count": null,
   "metadata": {},
   "outputs": [],
   "source": [
    "extractor  = BaseExtractor()\n",
    "for archive in archives:\n",
    "    extractor.from_stackexchange(archive)"
   ]
  },
  {
   "cell_type": "markdown",
   "metadata": {},
   "source": [
    "Then transform the tables. \\\n",
    "In our case this means dropping some columns because they dont fit in the SQL tables or they are not necessary for our data analysis. \\\n",
    "Because we use the same transformation for every table I first create a method to reduce the number of same calls to the same method. \\\n",
    "Here you can see the add(transformation, params) method in action. As you can see, you just need to add the name of the transformation and then the parameter it needs to add it to the transformer class. When you run the 'transform' method the partial method is executed with the DataFrame."
   ]
  },
  {
   "cell_type": "code",
   "execution_count": null,
   "metadata": {},
   "outputs": [],
   "source": [
    "\n",
    "def transform_stackexchange_table(archive, tablename, cols_to_drop):\n",
    "    transformer = BaseTransformer()\n",
    "    transformer.add('remove_columns', cols_to_drop)\n",
    "    transformer.transform(f'stackexchange\\{archive}',f'{tablename}.parquet')\n",
    "    \n",
    "for archive in archives:\n",
    "    transform_stackexchange_table(archive, 'Badges', [])\n",
    "    transform_stackexchange_table(archive, 'Comments', ['text','user_display_name'])\n",
    "    transform_stackexchange_table(archive, 'PostHistory', ['revision_guid','text','user_display_name','comment'])\n",
    "    transform_stackexchange_table(archive, 'PostLinks', [])\n",
    "    transform_stackexchange_table(archive, 'Posts', ['body', 'title', 'tags'])\n",
    "    transform_stackexchange_table(archive, 'Tags', [])\n",
    "    transform_stackexchange_table(archive, 'Users', ['about_me', 'location', 'profile_image_url', 'website_url'])\n",
    "    transform_stackexchange_table(archive, 'Votes', [])"
   ]
  },
  {
   "cell_type": "markdown",
   "metadata": {},
   "source": [
    "Finally we load the data into our SQL Server database. We use the to_sqlserver method to do this."
   ]
  },
  {
   "cell_type": "code",
   "execution_count": null,
   "metadata": {},
   "outputs": [],
   "source": [
    "for archive in archives:\n",
    "    loader = BaseLoader()\n",
    "    loader.to_sqlserver(f'stackexchange\\\\{archive}', un=username, pw=password, server=server, port=port, db=database)"
   ]
  }
 ],
 "metadata": {
  "kernelspec": {
   "display_name": "Python 3.7.13 ('ticketswap-assignment')",
   "language": "python",
   "name": "python3"
  },
  "language_info": {
   "codemirror_mode": {
    "name": "ipython",
    "version": 3
   },
   "file_extension": ".py",
   "mimetype": "text/x-python",
   "name": "python",
   "nbconvert_exporter": "python",
   "pygments_lexer": "ipython3",
   "version": "3.7.13"
  },
  "orig_nbformat": 4,
  "vscode": {
   "interpreter": {
    "hash": "18906d930e6f2b4ff224c34919210404520a7ba4303eb9a872256e3654d3fa16"
   }
  }
 },
 "nbformat": 4,
 "nbformat_minor": 2
}
