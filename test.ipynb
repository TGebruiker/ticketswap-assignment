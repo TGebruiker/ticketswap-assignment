{
 "cells": [
  {
   "cell_type": "code",
   "execution_count": 90,
   "metadata": {},
   "outputs": [],
   "source": [
    "from internetarchive import download\n",
    "from internetarchive import search_items\n",
    "import pandas as pd\n",
    "import py7zr\n",
    "from os import listdir\n",
    "import logging\n",
    "import numpy as np\n",
    "import pyodbc\n",
    "import sqlalchemy"
   ]
  },
  {
   "cell_type": "code",
   "execution_count": 91,
   "metadata": {},
   "outputs": [],
   "source": [
    "def download_stackexchange(name):\n",
    "    # set filename and download .7z from archive\n",
    "    filename = name + '.stackexchange.com.7z'\n",
    "    download('stackexchange', files=filename, verbose=True)\n",
    "    \n",
    "    # unpack archive\n",
    "    logging.info(f'Unpacking {filename}')\n",
    "    with py7zr.SevenZipFile('stackexchange/' + filename, 'r') as archive:\n",
    "        archive.extractall(path=f\"./stackexchange/{name}\")\n",
    "    \n",
    "    # discover all XML files present in download and parse\n",
    "    tables = [name.split(sep='.')[0] for name in listdir(f'stackexchange/{name}')]\n",
    "    df = {table.lower():pd.read_xml(f'stackexchange/{name}/{table}.xml', parser='etree').rename(columns=lambda col: f'{table.lower()}_{col.lower()}') for table in tables}\n",
    "    df['posts']['posts_stackexchangename'] = name\n",
    "    return df"
   ]
  },
  {
   "cell_type": "code",
   "execution_count": 176,
   "metadata": {},
   "outputs": [
    {
     "name": "stderr",
     "output_type": "stream",
     "text": [
      "stackexchange:\n",
      " skipping stackexchange\\woodworking.stackexchange.com.7z, file already exists based on length and date.\n"
     ]
    }
   ],
   "source": [
    "name = 'woodworking'\n",
    "woodworking = download_stackexchange(name)"
   ]
  },
  {
   "cell_type": "code",
   "execution_count": 109,
   "metadata": {},
   "outputs": [
    {
     "name": "stderr",
     "output_type": "stream",
     "text": [
      "stackexchange:\n",
      " skipping stackexchange\\ai.stackexchange.com.7z, file already exists based on length and date.\n"
     ]
    }
   ],
   "source": [
    "name = 'ai'\n",
    "ai = download_stackexchange(name)"
   ]
  },
  {
   "cell_type": "code",
   "execution_count": 56,
   "metadata": {},
   "outputs": [
    {
     "name": "stdout",
     "output_type": "stream",
     "text": [
      "Badges['Class', 'Date', 'Id', 'Name', 'TagBased', 'UserId']\n",
      "Comments['ContentLicense', 'CreationDate', 'Id', 'PostId', 'Score', 'Text', 'UserId', 'UserDisplayName']\n",
      "PostHistory['ContentLicense', 'CreationDate', 'Id', 'PostHistoryTypeId', 'PostId', 'RevisionGUID', 'Text', 'UserId', 'UserDisplayName', 'Comment']\n",
      "PostLinks['CreationDate', 'Id', 'LinkTypeId', 'PostId', 'RelatedPostId']\n",
      "Posts['AnswerCount', 'Body', 'CommentCount', 'ContentLicense', 'CreationDate', 'FavoriteCount', 'Id', 'LastActivityDate', 'LastEditDate', 'LastEditorUserId', 'OwnerUserId', 'PostTypeId', 'Score', 'Tags', 'Title', 'ViewCount', 'AcceptedAnswerId', 'OwnerDisplayName', 'ParentId', 'ClosedDate', 'LastEditorDisplayName', 'CommunityOwnedDate', 'StackExchangeName']\n",
      "Tags['Count', 'ExcerptPostId', 'Id', 'TagName', 'WikiPostId']\n",
      "Users['AboutMe', 'AccountId', 'CreationDate', 'DisplayName', 'DownVotes', 'Id', 'LastAccessDate', 'Location', 'Reputation', 'UpVotes', 'Views', 'ProfileImageUrl', 'WebsiteUrl']\n",
      "Votes['CreationDate', 'Id', 'PostId', 'VoteTypeId', 'UserId', 'BountyAmount']\n"
     ]
    }
   ],
   "source": [
    "for key, value in woodworking.items():\n",
    "    print(key + str(value.columns.to_list()))"
   ]
  },
  {
   "cell_type": "code",
   "execution_count": 83,
   "metadata": {},
   "outputs": [
    {
     "name": "stdout",
     "output_type": "stream",
     "text": [
      "[4566    8   23   36    3    5   23  100    5    4    3  128  157]\n",
      "[6182   10   23   36    4    5   23  100    5    4    4  128  200]\n"
     ]
    }
   ],
   "source": [
    "measurer = np.vectorize(len)\n",
    "print(measurer(woodworking[table].values.astype(str)).max(axis=0))\n",
    "print(measurer(ai[table].values.astype(str)).max(axis=0))"
   ]
  },
  {
   "cell_type": "code",
   "execution_count": 95,
   "metadata": {},
   "outputs": [],
   "source": [
    "user = 'admin'\n",
    "password = 'jf6qDce3CKCrDRrM'\n",
    "server = 'ticketswap-stackexchange-dwh.csboebiw4ypn.eu-west-3.rds.amazonaws.com'\n",
    "port = '1433'\n",
    "database = 'ticketswap-stackexchange-dwh'\n",
    "driver = 'SQL Server Native Client 11.0'"
   ]
  },
  {
   "cell_type": "code",
   "execution_count": 105,
   "metadata": {},
   "outputs": [],
   "source": [
    "cnxn_str = (\"Driver={SQL Server Native Client 11.0};\"\n",
    "            \"Server=ticketswap-stackexchange-dwh.csboebiw4ypn.eu-west-3.rds.amazonaws.com,1433;\"\n",
    "            \"Database=ticketswap-stackexchange-dwh;\"\n",
    "            \"UID=admin;\"\n",
    "            \"PWD=jf6qDce3CKCrDRrM;\")\n",
    "cnxn = pyodbc.connect(cnxn_str)"
   ]
  },
  {
   "cell_type": "code",
   "execution_count": 128,
   "metadata": {},
   "outputs": [],
   "source": [
    "tables_with_ids = {'badges':'badgeid', \n",
    "                    'comments':'commentid', \n",
    "                    'posthistory':'posthistoryid', \n",
    "                    'postlinks': 'postlinkid',\n",
    "                    'posts': 'postid',\n",
    "                    'tags': 'tagid',\n",
    "                    'users': 'userid',\n",
    "                    'votes': 'voteid'}"
   ]
  },
  {
   "cell_type": "code",
   "execution_count": 169,
   "metadata": {},
   "outputs": [],
   "source": [
    "def reset_indexes(archive, tables_with_ids, con):\n",
    "    columns_to_add = {}\n",
    "    for tablename, table in archive.items():\n",
    "        id_name = tables_with_ids[tablename]\n",
    "        max_index = pd.read_sql(f'SELECT MAX({tablename}_id) FROM dbo.{tablename}', con=con).iloc[0,0]\n",
    "        print(max_index)\n",
    "        if max_index is None:\n",
    "            max_index = 1\n",
    "        print(table[f'{tablename}_id'].min())\n",
    "        to_add = max_index - table[f'{tablename}_id'].min()\n",
    "        columns_to_add[id_name] = to_add\n",
    "    for colname, value in columns_to_add.items():\n",
    "        for table in archive.keys():\n",
    "            for col in archive[table].columns:\n",
    "                if col == f'{table}_{colname}':\n",
    "                    print(f'adding {value} to {table}.{col}')\n",
    "                    archive[table][col] += value   "
   ]
  },
  {
   "cell_type": "code",
   "execution_count": 170,
   "metadata": {},
   "outputs": [
    {
     "name": "stdout",
     "output_type": "stream",
     "text": [
      "75490\n",
      "75491\n",
      "None\n",
      "9\n",
      "38416\n",
      "1\n",
      "141888\n",
      "103\n",
      "13863\n",
      "1\n",
      "430\n",
      "2\n",
      "12144\n",
      "-1\n",
      "54868\n",
      "1\n",
      "adding 13862 to comments.comments_postid\n",
      "adding 13862 to posthistory.posthistory_postid\n",
      "adding 13862 to postlinks.postlinks_postid\n",
      "adding 13862 to votes.votes_postid\n",
      "adding 12145 to badges.badges_userid\n",
      "adding 12145 to comments.comments_userid\n",
      "adding 12145 to posthistory.posthistory_userid\n",
      "adding 12145 to votes.votes_userid\n"
     ]
    }
   ],
   "source": [
    "reset_indexes(ai, tables_with_ids, con)"
   ]
  },
  {
   "cell_type": "code",
   "execution_count": 179,
   "metadata": {},
   "outputs": [],
   "source": [
    "engine = sqlalchemy.create_engine(f'mssql+pyodbc://{user}:{password}@{server}:{port}/{database}?driver=SQL+Server+Native+Client+11.0')\n",
    "con = engine.connect()"
   ]
  },
  {
   "cell_type": "code",
   "execution_count": 171,
   "metadata": {},
   "outputs": [],
   "source": [
    "con.close()"
   ]
  },
  {
   "cell_type": "code",
   "execution_count": 144,
   "metadata": {},
   "outputs": [
    {
     "data": {
      "text/html": [
       "<div>\n",
       "<style scoped>\n",
       "    .dataframe tbody tr th:only-of-type {\n",
       "        vertical-align: middle;\n",
       "    }\n",
       "\n",
       "    .dataframe tbody tr th {\n",
       "        vertical-align: top;\n",
       "    }\n",
       "\n",
       "    .dataframe thead th {\n",
       "        text-align: right;\n",
       "    }\n",
       "</style>\n",
       "<table border=\"1\" class=\"dataframe\">\n",
       "  <thead>\n",
       "    <tr style=\"text-align: right;\">\n",
       "      <th></th>\n",
       "      <th></th>\n",
       "    </tr>\n",
       "  </thead>\n",
       "  <tbody>\n",
       "    <tr>\n",
       "      <th>0</th>\n",
       "      <td>None</td>\n",
       "    </tr>\n",
       "  </tbody>\n",
       "</table>\n",
       "</div>"
      ],
      "text/plain": [
       "       \n",
       "0  None"
      ]
     },
     "execution_count": 144,
     "metadata": {},
     "output_type": "execute_result"
    }
   ],
   "source": [
    "pd.read_sql(f'SELECT MAX(comments_id) FROM dbo.comments', con=con)"
   ]
  },
  {
   "cell_type": "code",
   "execution_count": 149,
   "metadata": {},
   "outputs": [
    {
     "data": {
      "text/plain": [
       "75490"
      ]
     },
     "execution_count": 149,
     "metadata": {},
     "output_type": "execute_result"
    }
   ],
   "source": [
    "result = pd.read_sql('SELECT MAX(badges_id) FROM dbo.badges', con=con).iloc[0,0]\n",
    "result"
   ]
  },
  {
   "cell_type": "code",
   "execution_count": 139,
   "metadata": {},
   "outputs": [
    {
     "data": {
      "text/plain": [
       "54457"
      ]
     },
     "execution_count": 139,
     "metadata": {},
     "output_type": "execute_result"
    }
   ],
   "source": [
    "to_add = result - ai['badges']['badges_id'].min()\n",
    "to_add"
   ]
  },
  {
   "cell_type": "code",
   "execution_count": 140,
   "metadata": {},
   "outputs": [],
   "source": [
    "ai['badges']['badges_id'] += to_add"
   ]
  },
  {
   "cell_type": "code",
   "execution_count": 175,
   "metadata": {},
   "outputs": [
    {
     "data": {
      "text/html": [
       "<div>\n",
       "<style scoped>\n",
       "    .dataframe tbody tr th:only-of-type {\n",
       "        vertical-align: middle;\n",
       "    }\n",
       "\n",
       "    .dataframe tbody tr th {\n",
       "        vertical-align: top;\n",
       "    }\n",
       "\n",
       "    .dataframe thead th {\n",
       "        text-align: right;\n",
       "    }\n",
       "</style>\n",
       "<table border=\"1\" class=\"dataframe\">\n",
       "  <thead>\n",
       "    <tr style=\"text-align: right;\">\n",
       "      <th></th>\n",
       "      <th>comments_contentlicense</th>\n",
       "      <th>comments_creationdate</th>\n",
       "      <th>comments_id</th>\n",
       "      <th>comments_postid</th>\n",
       "      <th>comments_score</th>\n",
       "      <th>comments_text</th>\n",
       "      <th>comments_userid</th>\n",
       "      <th>comments_userdisplayname</th>\n",
       "    </tr>\n",
       "  </thead>\n",
       "  <tbody>\n",
       "    <tr>\n",
       "      <th>0</th>\n",
       "      <td>CC BY-SA 3.0</td>\n",
       "      <td>2015-03-17T15:23:35.850</td>\n",
       "      <td>2</td>\n",
       "      <td>1</td>\n",
       "      <td>3</td>\n",
       "      <td>This is basically the technique I use.  http:/...</td>\n",
       "      <td>33.0</td>\n",
       "      <td>None</td>\n",
       "    </tr>\n",
       "    <tr>\n",
       "      <th>1</th>\n",
       "      <td>CC BY-SA 3.0</td>\n",
       "      <td>2015-03-17T15:25:14.843</td>\n",
       "      <td>3</td>\n",
       "      <td>2</td>\n",
       "      <td>0</td>\n",
       "      <td>you wouldn't happen to have access to a band s...</td>\n",
       "      <td>32.0</td>\n",
       "      <td>None</td>\n",
       "    </tr>\n",
       "    <tr>\n",
       "      <th>2</th>\n",
       "      <td>CC BY-SA 3.0</td>\n",
       "      <td>2015-03-17T15:25:18.220</td>\n",
       "      <td>4</td>\n",
       "      <td>5</td>\n",
       "      <td>0</td>\n",
       "      <td>I'm not 100% sure this is technically in scope...</td>\n",
       "      <td>14.0</td>\n",
       "      <td>None</td>\n",
       "    </tr>\n",
       "    <tr>\n",
       "      <th>3</th>\n",
       "      <td>CC BY-SA 3.0</td>\n",
       "      <td>2015-03-17T15:25:59.820</td>\n",
       "      <td>5</td>\n",
       "      <td>1</td>\n",
       "      <td>3</td>\n",
       "      <td>Welcome to your new SE community! Can you give...</td>\n",
       "      <td>23.0</td>\n",
       "      <td>None</td>\n",
       "    </tr>\n",
       "    <tr>\n",
       "      <th>4</th>\n",
       "      <td>CC BY-SA 3.0</td>\n",
       "      <td>2015-03-17T15:26:41.430</td>\n",
       "      <td>6</td>\n",
       "      <td>7</td>\n",
       "      <td>1</td>\n",
       "      <td>I highly suggest going to a 'panel' style blad...</td>\n",
       "      <td>31.0</td>\n",
       "      <td>None</td>\n",
       "    </tr>\n",
       "    <tr>\n",
       "      <th>...</th>\n",
       "      <td>...</td>\n",
       "      <td>...</td>\n",
       "      <td>...</td>\n",
       "      <td>...</td>\n",
       "      <td>...</td>\n",
       "      <td>...</td>\n",
       "      <td>...</td>\n",
       "      <td>...</td>\n",
       "    </tr>\n",
       "    <tr>\n",
       "      <th>24113</th>\n",
       "      <td>CC BY-SA 4.0</td>\n",
       "      <td>2022-06-04T13:49:07.107</td>\n",
       "      <td>30528</td>\n",
       "      <td>13863</td>\n",
       "      <td>1</td>\n",
       "      <td>I do not believe you should use a filler betwe...</td>\n",
       "      <td>1821.0</td>\n",
       "      <td>None</td>\n",
       "    </tr>\n",
       "    <tr>\n",
       "      <th>24114</th>\n",
       "      <td>CC BY-SA 4.0</td>\n",
       "      <td>2022-06-04T21:40:36.267</td>\n",
       "      <td>30529</td>\n",
       "      <td>13863</td>\n",
       "      <td>0</td>\n",
       "      <td>Thanks @AloysiusDefenestrate, your straightfor...</td>\n",
       "      <td>3133.0</td>\n",
       "      <td>None</td>\n",
       "    </tr>\n",
       "    <tr>\n",
       "      <th>24115</th>\n",
       "      <td>CC BY-SA 4.0</td>\n",
       "      <td>2022-06-04T21:41:29.943</td>\n",
       "      <td>30530</td>\n",
       "      <td>13863</td>\n",
       "      <td>1</td>\n",
       "      <td>Agreed that this may be off-topic for woodwork...</td>\n",
       "      <td>3133.0</td>\n",
       "      <td>None</td>\n",
       "    </tr>\n",
       "    <tr>\n",
       "      <th>24116</th>\n",
       "      <td>CC BY-SA 4.0</td>\n",
       "      <td>2022-06-05T01:37:21.037</td>\n",
       "      <td>30531</td>\n",
       "      <td>13863</td>\n",
       "      <td>0</td>\n",
       "      <td>I've flagged it for a mod to move it to [diy.s...</td>\n",
       "      <td>93.0</td>\n",
       "      <td>None</td>\n",
       "    </tr>\n",
       "    <tr>\n",
       "      <th>24117</th>\n",
       "      <td>CC BY-SA 4.0</td>\n",
       "      <td>2022-06-05T02:23:58.603</td>\n",
       "      <td>30532</td>\n",
       "      <td>13863</td>\n",
       "      <td>0</td>\n",
       "      <td>Moved to DIY. Good Luck.</td>\n",
       "      <td>1821.0</td>\n",
       "      <td>None</td>\n",
       "    </tr>\n",
       "  </tbody>\n",
       "</table>\n",
       "<p>24118 rows × 8 columns</p>\n",
       "</div>"
      ],
      "text/plain": [
       "      comments_contentlicense    comments_creationdate  comments_id  \\\n",
       "0                CC BY-SA 3.0  2015-03-17T15:23:35.850            2   \n",
       "1                CC BY-SA 3.0  2015-03-17T15:25:14.843            3   \n",
       "2                CC BY-SA 3.0  2015-03-17T15:25:18.220            4   \n",
       "3                CC BY-SA 3.0  2015-03-17T15:25:59.820            5   \n",
       "4                CC BY-SA 3.0  2015-03-17T15:26:41.430            6   \n",
       "...                       ...                      ...          ...   \n",
       "24113            CC BY-SA 4.0  2022-06-04T13:49:07.107        30528   \n",
       "24114            CC BY-SA 4.0  2022-06-04T21:40:36.267        30529   \n",
       "24115            CC BY-SA 4.0  2022-06-04T21:41:29.943        30530   \n",
       "24116            CC BY-SA 4.0  2022-06-05T01:37:21.037        30531   \n",
       "24117            CC BY-SA 4.0  2022-06-05T02:23:58.603        30532   \n",
       "\n",
       "       comments_postid  comments_score  \\\n",
       "0                    1               3   \n",
       "1                    2               0   \n",
       "2                    5               0   \n",
       "3                    1               3   \n",
       "4                    7               1   \n",
       "...                ...             ...   \n",
       "24113            13863               1   \n",
       "24114            13863               0   \n",
       "24115            13863               1   \n",
       "24116            13863               0   \n",
       "24117            13863               0   \n",
       "\n",
       "                                           comments_text  comments_userid  \\\n",
       "0      This is basically the technique I use.  http:/...             33.0   \n",
       "1      you wouldn't happen to have access to a band s...             32.0   \n",
       "2      I'm not 100% sure this is technically in scope...             14.0   \n",
       "3      Welcome to your new SE community! Can you give...             23.0   \n",
       "4      I highly suggest going to a 'panel' style blad...             31.0   \n",
       "...                                                  ...              ...   \n",
       "24113  I do not believe you should use a filler betwe...           1821.0   \n",
       "24114  Thanks @AloysiusDefenestrate, your straightfor...           3133.0   \n",
       "24115  Agreed that this may be off-topic for woodwork...           3133.0   \n",
       "24116  I've flagged it for a mod to move it to [diy.s...             93.0   \n",
       "24117                           Moved to DIY. Good Luck.           1821.0   \n",
       "\n",
       "      comments_userdisplayname  \n",
       "0                         None  \n",
       "1                         None  \n",
       "2                         None  \n",
       "3                         None  \n",
       "4                         None  \n",
       "...                        ...  \n",
       "24113                     None  \n",
       "24114                     None  \n",
       "24115                     None  \n",
       "24116                     None  \n",
       "24117                     None  \n",
       "\n",
       "[24118 rows x 8 columns]"
      ]
     },
     "execution_count": 175,
     "metadata": {},
     "output_type": "execute_result"
    }
   ],
   "source": [
    "woodworking['comments']\n",
    "[comments_contentlicence]\n",
    "[comments_contentlicense]"
   ]
  },
  {
   "cell_type": "code",
   "execution_count": null,
   "metadata": {},
   "outputs": [],
   "source": [
    "woodworking['badges'].to_sql('badges', con=con, if_exists='append', index=False, chunksize=100, method='multi')"
   ]
  },
  {
   "cell_type": "code",
   "execution_count": 177,
   "metadata": {},
   "outputs": [],
   "source": [
    "woodworking['comments'].drop(columns=['comments_text','comments_userdisplayname'], inplace=True)"
   ]
  },
  {
   "cell_type": "code",
   "execution_count": 181,
   "metadata": {},
   "outputs": [
    {
     "data": {
      "text/html": [
       "<div>\n",
       "<style scoped>\n",
       "    .dataframe tbody tr th:only-of-type {\n",
       "        vertical-align: middle;\n",
       "    }\n",
       "\n",
       "    .dataframe tbody tr th {\n",
       "        vertical-align: top;\n",
       "    }\n",
       "\n",
       "    .dataframe thead th {\n",
       "        text-align: right;\n",
       "    }\n",
       "</style>\n",
       "<table border=\"1\" class=\"dataframe\">\n",
       "  <thead>\n",
       "    <tr style=\"text-align: right;\">\n",
       "      <th></th>\n",
       "      <th>comments_contentlicense</th>\n",
       "      <th>comments_creationdate</th>\n",
       "      <th>comments_id</th>\n",
       "      <th>comments_postid</th>\n",
       "      <th>comments_score</th>\n",
       "      <th>comments_userid</th>\n",
       "    </tr>\n",
       "  </thead>\n",
       "  <tbody>\n",
       "    <tr>\n",
       "      <th>0</th>\n",
       "      <td>CC BY-SA 3.0</td>\n",
       "      <td>2015-03-17T15:23:35.850</td>\n",
       "      <td>2</td>\n",
       "      <td>1</td>\n",
       "      <td>3</td>\n",
       "      <td>33.0</td>\n",
       "    </tr>\n",
       "    <tr>\n",
       "      <th>1</th>\n",
       "      <td>CC BY-SA 3.0</td>\n",
       "      <td>2015-03-17T15:25:14.843</td>\n",
       "      <td>3</td>\n",
       "      <td>2</td>\n",
       "      <td>0</td>\n",
       "      <td>32.0</td>\n",
       "    </tr>\n",
       "    <tr>\n",
       "      <th>2</th>\n",
       "      <td>CC BY-SA 3.0</td>\n",
       "      <td>2015-03-17T15:25:18.220</td>\n",
       "      <td>4</td>\n",
       "      <td>5</td>\n",
       "      <td>0</td>\n",
       "      <td>14.0</td>\n",
       "    </tr>\n",
       "    <tr>\n",
       "      <th>3</th>\n",
       "      <td>CC BY-SA 3.0</td>\n",
       "      <td>2015-03-17T15:25:59.820</td>\n",
       "      <td>5</td>\n",
       "      <td>1</td>\n",
       "      <td>3</td>\n",
       "      <td>23.0</td>\n",
       "    </tr>\n",
       "    <tr>\n",
       "      <th>4</th>\n",
       "      <td>CC BY-SA 3.0</td>\n",
       "      <td>2015-03-17T15:26:41.430</td>\n",
       "      <td>6</td>\n",
       "      <td>7</td>\n",
       "      <td>1</td>\n",
       "      <td>31.0</td>\n",
       "    </tr>\n",
       "    <tr>\n",
       "      <th>...</th>\n",
       "      <td>...</td>\n",
       "      <td>...</td>\n",
       "      <td>...</td>\n",
       "      <td>...</td>\n",
       "      <td>...</td>\n",
       "      <td>...</td>\n",
       "    </tr>\n",
       "    <tr>\n",
       "      <th>24113</th>\n",
       "      <td>CC BY-SA 4.0</td>\n",
       "      <td>2022-06-04T13:49:07.107</td>\n",
       "      <td>30528</td>\n",
       "      <td>13863</td>\n",
       "      <td>1</td>\n",
       "      <td>1821.0</td>\n",
       "    </tr>\n",
       "    <tr>\n",
       "      <th>24114</th>\n",
       "      <td>CC BY-SA 4.0</td>\n",
       "      <td>2022-06-04T21:40:36.267</td>\n",
       "      <td>30529</td>\n",
       "      <td>13863</td>\n",
       "      <td>0</td>\n",
       "      <td>3133.0</td>\n",
       "    </tr>\n",
       "    <tr>\n",
       "      <th>24115</th>\n",
       "      <td>CC BY-SA 4.0</td>\n",
       "      <td>2022-06-04T21:41:29.943</td>\n",
       "      <td>30530</td>\n",
       "      <td>13863</td>\n",
       "      <td>1</td>\n",
       "      <td>3133.0</td>\n",
       "    </tr>\n",
       "    <tr>\n",
       "      <th>24116</th>\n",
       "      <td>CC BY-SA 4.0</td>\n",
       "      <td>2022-06-05T01:37:21.037</td>\n",
       "      <td>30531</td>\n",
       "      <td>13863</td>\n",
       "      <td>0</td>\n",
       "      <td>93.0</td>\n",
       "    </tr>\n",
       "    <tr>\n",
       "      <th>24117</th>\n",
       "      <td>CC BY-SA 4.0</td>\n",
       "      <td>2022-06-05T02:23:58.603</td>\n",
       "      <td>30532</td>\n",
       "      <td>13863</td>\n",
       "      <td>0</td>\n",
       "      <td>1821.0</td>\n",
       "    </tr>\n",
       "  </tbody>\n",
       "</table>\n",
       "<p>24118 rows × 6 columns</p>\n",
       "</div>"
      ],
      "text/plain": [
       "      comments_contentlicense    comments_creationdate  comments_id  \\\n",
       "0                CC BY-SA 3.0  2015-03-17T15:23:35.850            2   \n",
       "1                CC BY-SA 3.0  2015-03-17T15:25:14.843            3   \n",
       "2                CC BY-SA 3.0  2015-03-17T15:25:18.220            4   \n",
       "3                CC BY-SA 3.0  2015-03-17T15:25:59.820            5   \n",
       "4                CC BY-SA 3.0  2015-03-17T15:26:41.430            6   \n",
       "...                       ...                      ...          ...   \n",
       "24113            CC BY-SA 4.0  2022-06-04T13:49:07.107        30528   \n",
       "24114            CC BY-SA 4.0  2022-06-04T21:40:36.267        30529   \n",
       "24115            CC BY-SA 4.0  2022-06-04T21:41:29.943        30530   \n",
       "24116            CC BY-SA 4.0  2022-06-05T01:37:21.037        30531   \n",
       "24117            CC BY-SA 4.0  2022-06-05T02:23:58.603        30532   \n",
       "\n",
       "       comments_postid  comments_score  comments_userid  \n",
       "0                    1               3             33.0  \n",
       "1                    2               0             32.0  \n",
       "2                    5               0             14.0  \n",
       "3                    1               3             23.0  \n",
       "4                    7               1             31.0  \n",
       "...                ...             ...              ...  \n",
       "24113            13863               1           1821.0  \n",
       "24114            13863               0           3133.0  \n",
       "24115            13863               1           3133.0  \n",
       "24116            13863               0             93.0  \n",
       "24117            13863               0           1821.0  \n",
       "\n",
       "[24118 rows x 6 columns]"
      ]
     },
     "execution_count": 181,
     "metadata": {},
     "output_type": "execute_result"
    }
   ],
   "source": [
    "woodworking['comments']"
   ]
  },
  {
   "cell_type": "code",
   "execution_count": 180,
   "metadata": {},
   "outputs": [
    {
     "ename": "ProgrammingError",
     "evalue": "(pyodbc.ProgrammingError) ('42S22', \"[42S22] [Microsoft][SQL Server Native Client 11.0][SQL Server]Invalid column name 'comments_contentlicense'. (207) (SQLExecDirectW); [42S22] [Microsoft][SQL Server Native Client 11.0][SQL Server]Invalid column name 'comments_contentlicense'. (207); [42S22] [Microsoft][SQL Server Native Client 11.0][SQL Server]Statement(s) could not be prepared. (8180)\")\n[SQL: INSERT INTO comments (comments_contentlicense, comments_creationdate, comments_id, comments_postid, comments_score, comments_userid) VALUES (?, ?, ?, ?, ?, ?), (?, ?, ?, ?, ?, ?), (?, ?, ?, ?, ?, ?), (?, ?, ?, ?, ?, ?), (?, ?, ?, ?, ?, ?), (?, ?, ?, ?, ?, ?), (?, ?, ?, ?, ?, ?), (?, ?, ?, ?, ?, ?), (?, ?, ?, ?, ?, ?), (?, ?, ?, ?, ?, ?), (?, ?, ?, ?, ?, ?), (?, ?, ?, ?, ?, ?), (?, ?, ?, ?, ?, ?), (?, ?, ?, ?, ?, ?), (?, ?, ?, ?, ?, ?), (?, ?, ?, ?, ?, ?), (?, ?, ?, ?, ?, ?), (?, ?, ?, ?, ?, ?), (?, ?, ?, ?, ?, ?), (?, ?, ?, ?, ?, ?), (?, ?, ?, ?, ?, ?), (?, ?, ?, ?, ?, ?), (?, ?, ?, ?, ?, ?), (?, ?, ?, ?, ?, ?), (?, ?, ?, ?, ?, ?), (?, ?, ?, ?, ?, ?), (?, ?, ?, ?, ?, ?), (?, ?, ?, ?, ?, ?), (?, ?, ?, ?, ?, ?), (?, ?, ?, ?, ?, ?), (?, ?, ?, ?, ?, ?), (?, ?, ?, ?, ?, ?), (?, ?, ?, ?, ?, ?), (?, ?, ?, ?, ?, ?), (?, ?, ?, ?, ?, ?), (?, ?, ?, ?, ?, ?), (?, ?, ?, ?, ?, ?), (?, ?, ?, ?, ?, ?), (?, ?, ?, ?, ?, ?), (?, ?, ?, ?, ?, ?), (?, ?, ?, ?, ?, ?), (?, ?, ?, ?, ?, ?), (?, ?, ?, ?, ?, ?), (?, ?, ?, ?, ?, ?), (?, ?, ?, ?, ?, ?), (?, ?, ?, ?, ?, ?), (?, ?, ?, ?, ?, ?), (?, ?, ?, ?, ?, ?), (?, ?, ?, ?, ?, ?), (?, ?, ?, ?, ?, ?), (?, ?, ?, ?, ?, ?), (?, ?, ?, ?, ?, ?), (?, ?, ?, ?, ?, ?), (?, ?, ?, ?, ?, ?), (?, ?, ?, ?, ?, ?), (?, ?, ?, ?, ?, ?), (?, ?, ?, ?, ?, ?), (?, ?, ?, ?, ?, ?), (?, ?, ?, ?, ?, ?), (?, ?, ?, ?, ?, ?), (?, ?, ?, ?, ?, ?), (?, ?, ?, ?, ?, ?), (?, ?, ?, ?, ?, ?), (?, ?, ?, ?, ?, ?), (?, ?, ?, ?, ?, ?), (?, ?, ?, ?, ?, ?), (?, ?, ?, ?, ?, ?), (?, ?, ?, ?, ?, ?), (?, ?, ?, ?, ?, ?), (?, ?, ?, ?, ?, ?), (?, ?, ?, ?, ?, ?), (?, ?, ?, ?, ?, ?), (?, ?, ?, ?, ?, ?), (?, ?, ?, ?, ?, ?), (?, ?, ?, ?, ?, ?), (?, ?, ?, ?, ?, ?), (?, ?, ?, ?, ?, ?), (?, ?, ?, ?, ?, ?), (?, ?, ?, ?, ?, ?), (?, ?, ?, ?, ?, ?), (?, ?, ?, ?, ?, ?), (?, ?, ?, ?, ?, ?), (?, ?, ?, ?, ?, ?), (?, ?, ?, ?, ?, ?), (?, ?, ?, ?, ?, ?), (?, ?, ?, ?, ?, ?), (?, ?, ?, ?, ?, ?), (?, ?, ?, ?, ?, ?), (?, ?, ?, ?, ?, ?), (?, ?, ?, ?, ?, ?), (?, ?, ?, ?, ?, ?), (?, ?, ?, ?, ?, ?), (?, ?, ?, ?, ?, ?), (?, ?, ?, ?, ?, ?), (?, ?, ?, ?, ?, ?), (?, ?, ?, ?, ?, ?), (?, ?, ?, ?, ?, ?), (?, ?, ?, ?, ?, ?), (?, ?, ?, ?, ?, ?), (?, ?, ?, ?, ?, ?)]\n[parameters: ('CC BY-SA 3.0', '2015-03-17T15:23:35.850', 2, 1, 3, 33.0, 'CC BY-SA 3.0', '2015-03-17T15:25:14.843', 3, 2, 0, 32.0, 'CC BY-SA 3.0', '2015-03-17T15:25:18.220', 4, 5, 0, 14.0, 'CC BY-SA 3.0', '2015-03-17T15:25:59.820', 5, 1, 3, 23.0, 'CC BY-SA 3.0', '2015-03-17T15:26:41.430', 6, 7, 1, 31.0, 'CC BY-SA 3.0', '2015-03-17T15:27:54.377', 7, 2, 0, 11.0, 'CC BY-SA 3.0', '2015-03-17T15:30:20.820', 8, 10, 1, 11.0, 'CC BY-SA 3.0', '2015-03-17T15:31:56.780', 9, 11, 2, None, 'CC BY-SA 3.0', '2015-03-17T15:32:12.277', 10, 10, 1, 25.0, 'CC BY-SA 3.0', '2015-03-17T15:33:07.850', 11, 9, 1, 25.0, 'CC BY-SA 3.0', '2015-03-17T15:33:09.977', 12, 3, 0, 14.0, 'CC BY-SA 3.0', '2015-03-17T15:34:45.567', 13, 5, 3, 25.0, 'CC BY-SA 3.0', '2015-03-17T15:37:43.290', 14, 8, 0, 3.0, 'CC BY-SA 3.0', '2015-03-17T15:38:22.673', 16, 3, 0, 24.0, 'CC BY-SA 3.0', '2015-03-17T15:38:31.027', 17, 16, 0, 25.0, 'CC BY-SA 3.0', '2015-03-17T15:39:24.017', 18, 11, 1, 35.0, 'CC BY-SA 3.0', '2015-03-17T15:40:22.670', 19, 19, 2, 3.0, 'CC BY-SA 3.0', '2015-03-17T15:40:25.093', 20, 16, 0, None, 'CC BY-SA 3.0', '2015-03-17T15:43:48.827', 21, 11, 0, 23.0, 'CC BY-SA 3.0', '2015-03-17T15:45:12.147', 22, 27, 2, 14.0, 'CC BY-SA 3.0', '2015-03-17T15:47:05.587', 23, 26, 0, 3.0, 'CC BY-SA 3.0', '2015-03-17T15:48:19.713', 24, 28, 0, 38.0, 'CC BY-SA 3.0', '2015-03-17T15:51:15.463', 27, 28, 0, 3.0, 'CC BY-SA 3.0', '2015-03-17T15:52:44.513', 28, 32, 3, 31.0, 'CC BY-SA 3.0', '2015-03-17T15:54:53.283', 29, 26, 1, 31.0, 'CC BY-SA 3.0', '2015-03-17T15:57:28.017', 30, 5, 0, 34.0, 'CC BY-SA 3.0', '2015-03-17T15:59:43.747', 31, 5, 1, 34.0, 'CC BY-SA 3.0', '2015-03-17T16:00:22.560', 32, 5, 0, 14.0, 'CC BY-SA 3.0', '2015-03-17T16:01:44.793', 33, 35, 2, 43.0, 'CC BY-SA 3.0', '2015-03-17T16:02:29.957', 34, 26, 0, 34.0, 'CC BY-SA 3.0', '2015-03-17T16:02:32.620', 35, 35, 0, 3.0, 'CC BY-SA 3.0', '2015-03-17T16:03:13.630', 37, 35, 0, 25.0, 'CC BY-SA 3.0', '2015-03-17T16:03:49.190', 38, 38, 0, 14.0, 'CC BY-SA 3.0', '2015-03-17T16:04:02.367', 39, 38, 0, 14.0, 'CC BY-SA 3.0', '2015-03-17T16:05:19.377', 40, 38, 0, 34.0, 'CC BY-SA 3.0', '2015-03-17T16:08:37.097', 41, 35, 3, 68.0, 'CC BY-SA 3.0', '2015-03-17T16:13:01.440', 42, 19, 0, 52.0, 'CC BY-SA 3.0', '2015-03-17T16:16:42.407', 43, 39, 2, 43.0, 'CC BY-SA 3.0', '2015-03-17T16:17:55.187', 44, 47, 5, 11.0, 'CC BY-SA 3.0', '2015-03-17T16:18:23.433', 45, 39, 0, 31.0, 'CC BY-SA 3.0', '2015-03-17T16:19:52.753', 46, 14, 0, 32.0, 'CC BY-SA 3.0', '2015-03-17T16:22:17.773', 47, 50, 1, 31.0, 'CC BY-SA 3.0', '2015-03-17T16:23:28.223', 48, 9, 0, 31.0, 'CC BY-SA 3.0', '2015-03-17T16:26:00.773', 49, 21, 0, 75.0, 'CC BY-SA 3.0', '2015-03-17T16:27:24.717', 50, 50, 0, 10.0, 'CC BY-SA 3.0', '2015-03-17T16:28:38.257', 51, 5, 1, 75.0, 'CC BY-SA 3.0', '2015-03-17T16:28:55.067', 52, 9, 0, 27.0, 'CC BY-SA 3.0', '2015-03-17T16:29:20.280', 53, 51, 0, 38.0, 'CC BY-SA 3.0', '2015-03-17T16:31:48.940', 54, 51, 0, 27.0, 'CC BY-SA 3.0', '2015-03-17T16:36:05.330', 55, 56, 0, 31.0, 'CC BY-SA 3.0', '2015-03-17T16:36:45.350', 56, 56, 0, 74.0, 'CC BY-SA 3.0', '2015-03-17T16:37:14.253', 57, 40, 1, 10.0, 'CC BY-SA 3.0', '2015-03-17T16:38:45.313', 58, 40, 2, 27.0, 'CC BY-SA 3.0', '2015-03-17T16:55:24.337', 59, 40, 2, 52.0, 'CC BY-SA 3.0', '2015-03-17T16:57:02.900', 60, 35, 0, 3.0, 'CC BY-SA 3.0', '2015-03-17T17:00:38.917', 61, 30, 0, 31.0, 'CC BY-SA 3.0', '2015-03-17T17:01:42.007', 62, 30, 0, 27.0, 'CC BY-SA 3.0', '2015-03-17T17:06:30.220', 63, 59, 1, 31.0, 'CC BY-SA 3.0', '2015-03-17T17:07:49.740', 64, 61, 1, 31.0, 'CC BY-SA 3.0', '2015-03-17T17:11:03.110', 65, 59, 0, 77.0, 'CC BY-SA 3.0', '2015-03-17T17:12:21.560', 67, 61, 0, 25.0, 'CC BY-SA 3.0', '2015-03-17T17:15:45.137', 68, 43, 0, 83.0, 'CC BY-SA 3.0', '2015-03-17T17:17:44.327', 69, 1, 2, 80.0, 'CC BY-SA 3.0', '2015-03-17T17:18:26.343', 71, 59, 0, 31.0, 'CC BY-SA 3.0', '2015-03-17T17:21:27.617', 72, 59, 0, 77.0, 'CC BY-SA 3.0', '2015-03-17T17:21:46.457', 73, 61, 0, 31.0, 'CC BY-SA 3.0', '2015-03-17T17:22:14.787', 74, 63, 1, 20.0, 'CC BY-SA 3.0', '2015-03-17T17:22:25.990', 75, 68, 0, 38.0, 'CC BY-SA 3.0', '2015-03-17T17:26:48.097', 77, 63, 0, 14.0, 'CC BY-SA 3.0', '2015-03-17T17:27:21.220', 78, 65, 1, 31.0, 'CC BY-SA 3.0', '2015-03-17T17:27:56.133', 79, 69, 1, 38.0, 'CC BY-SA 3.0', '2015-03-17T17:28:28.307', 80, 63, 0, 83.0, 'CC BY-SA 3.0', '2015-03-17T17:30:19.847', 81, 67, 1, 31.0, 'CC BY-SA 3.0', '2015-03-17T17:34:17.060', 83, 71, 4, 25.0, 'CC BY-SA 3.0', '2015-03-17T17:35:39.833', 84, 68, 0, 81.0, 'CC BY-SA 3.0', '2015-03-17T17:35:41.090', 85, 71, 5, 14.0, 'CC BY-SA 3.0', '2015-03-17T17:36:38.470', 86, 67, 0, 83.0, 'CC BY-SA 3.0', '2015-03-17T17:37:59.250', 87, 68, 1, 38.0, 'CC BY-SA 3.0', '2015-03-17T17:39:11.160', 88, 68, 0, 38.0, 'CC BY-SA 3.0', '2015-03-17T17:41:09.660', 89, 14, 0, 81.0, 'CC BY-SA 3.0', '2015-03-17T17:54:18.383', 91, 78, 1, 38.0, 'CC BY-SA 3.0', '2015-03-17T17:55:19.580', 92, 70, 0, 68.0, 'CC BY-SA 3.0', '2015-03-17T17:57:59.473', 93, 63, 1, 14.0, 'CC BY-SA 3.0', '2015-03-17T17:58:59.747', 94, 63, 1, 14.0, 'CC BY-SA 3.0', '2015-03-17T18:00:48.113', 95, 61, 0, 43.0, 'CC BY-SA 3.0', '2015-03-17T18:06:24.367', 97, 45, 1, 49.0, 'CC BY-SA 3.0', '2015-03-17T18:07:45.620', 98, 45, 0, 27.0, 'CC BY-SA 3.0', '2015-03-17T18:17:45.097', 99, 45, 0, 74.0, 'CC BY-SA 3.0', '2015-03-17T18:19:01.150', 100, 80, 2, 38.0, 'CC BY-SA 3.0', '2015-03-17T18:23:28.697', 101, 86, 0, 38.0, 'CC BY-SA 3.0', '2015-03-17T18:23:30.007', 102, 86, 0, 94.0, 'CC BY-SA 3.0', '2015-03-17T18:23:38.087', 103, 28, 0, 74.0, 'CC BY-SA 3.0', '2015-03-17T18:26:31.750', 104, 67, 2, 25.0, 'CC BY-SA 3.0', '2015-03-17T18:28:36.710', 105, 73, 1, 81.0, 'CC BY-SA 3.0', '2015-03-17T18:29:18.817', 106, 67, 0, 31.0, 'CC BY-SA 3.0', '2015-03-17T18:32:15.140', 107, 88, 3, 6.0, 'CC BY-SA 3.0', '2015-03-17T18:36:25.957', 108, 88, 2, 31.0, 'CC BY-SA 3.0', '2015-03-17T18:46:07.030', 109, 72, 1, 31.0, 'CC BY-SA 3.0', '2015-03-17T18:49:33.583', 110, 80, 1, 31.0, 'CC BY-SA 3.0', '2015-03-17T18:56:22.473', 111, 96, 1, 38.0)]\n(Background on this error at: https://sqlalche.me/e/14/f405)",
     "output_type": "error",
     "traceback": [
      "\u001b[1;31m---------------------------------------------------------------------------\u001b[0m",
      "\u001b[1;31mProgrammingError\u001b[0m                          Traceback (most recent call last)",
      "\u001b[1;32mc:\\Users\\Werk\\anaconda3\\envs\\ticketswap-assignment\\lib\\site-packages\\sqlalchemy\\engine\\base.py\u001b[0m in \u001b[0;36m_execute_context\u001b[1;34m(self, dialect, constructor, statement, parameters, execution_options, *args, **kw)\u001b[0m\n\u001b[0;32m   1900\u001b[0m                     self.dialect.do_execute(\n\u001b[1;32m-> 1901\u001b[1;33m                         \u001b[0mcursor\u001b[0m\u001b[1;33m,\u001b[0m \u001b[0mstatement\u001b[0m\u001b[1;33m,\u001b[0m \u001b[0mparameters\u001b[0m\u001b[1;33m,\u001b[0m \u001b[0mcontext\u001b[0m\u001b[1;33m\u001b[0m\u001b[1;33m\u001b[0m\u001b[0m\n\u001b[0m\u001b[0;32m   1902\u001b[0m                     )\n",
      "\u001b[1;32mc:\\Users\\Werk\\anaconda3\\envs\\ticketswap-assignment\\lib\\site-packages\\sqlalchemy\\engine\\default.py\u001b[0m in \u001b[0;36mdo_execute\u001b[1;34m(self, cursor, statement, parameters, context)\u001b[0m\n\u001b[0;32m    731\u001b[0m     \u001b[1;32mdef\u001b[0m \u001b[0mdo_execute\u001b[0m\u001b[1;33m(\u001b[0m\u001b[0mself\u001b[0m\u001b[1;33m,\u001b[0m \u001b[0mcursor\u001b[0m\u001b[1;33m,\u001b[0m \u001b[0mstatement\u001b[0m\u001b[1;33m,\u001b[0m \u001b[0mparameters\u001b[0m\u001b[1;33m,\u001b[0m \u001b[0mcontext\u001b[0m\u001b[1;33m=\u001b[0m\u001b[1;32mNone\u001b[0m\u001b[1;33m)\u001b[0m\u001b[1;33m:\u001b[0m\u001b[1;33m\u001b[0m\u001b[1;33m\u001b[0m\u001b[0m\n\u001b[1;32m--> 732\u001b[1;33m         \u001b[0mcursor\u001b[0m\u001b[1;33m.\u001b[0m\u001b[0mexecute\u001b[0m\u001b[1;33m(\u001b[0m\u001b[0mstatement\u001b[0m\u001b[1;33m,\u001b[0m \u001b[0mparameters\u001b[0m\u001b[1;33m)\u001b[0m\u001b[1;33m\u001b[0m\u001b[1;33m\u001b[0m\u001b[0m\n\u001b[0m\u001b[0;32m    733\u001b[0m \u001b[1;33m\u001b[0m\u001b[0m\n",
      "\u001b[1;31mProgrammingError\u001b[0m: ('42S22', \"[42S22] [Microsoft][SQL Server Native Client 11.0][SQL Server]Invalid column name 'comments_contentlicense'. (207) (SQLExecDirectW); [42S22] [Microsoft][SQL Server Native Client 11.0][SQL Server]Invalid column name 'comments_contentlicense'. (207); [42S22] [Microsoft][SQL Server Native Client 11.0][SQL Server]Statement(s) could not be prepared. (8180)\")",
      "\nThe above exception was the direct cause of the following exception:\n",
      "\u001b[1;31mProgrammingError\u001b[0m                          Traceback (most recent call last)",
      "\u001b[1;32m~\\AppData\\Local\\Temp\\ipykernel_19316\\2776385880.py\u001b[0m in \u001b[0;36m<module>\u001b[1;34m\u001b[0m\n\u001b[1;32m----> 1\u001b[1;33m \u001b[0mwoodworking\u001b[0m\u001b[1;33m[\u001b[0m\u001b[1;34m'comments'\u001b[0m\u001b[1;33m]\u001b[0m\u001b[1;33m.\u001b[0m\u001b[0mto_sql\u001b[0m\u001b[1;33m(\u001b[0m\u001b[1;34m'comments'\u001b[0m\u001b[1;33m,\u001b[0m \u001b[0mcon\u001b[0m\u001b[1;33m=\u001b[0m\u001b[0mcon\u001b[0m\u001b[1;33m,\u001b[0m \u001b[0mif_exists\u001b[0m\u001b[1;33m=\u001b[0m\u001b[1;34m'append'\u001b[0m\u001b[1;33m,\u001b[0m \u001b[0mindex\u001b[0m\u001b[1;33m=\u001b[0m\u001b[1;32mFalse\u001b[0m\u001b[1;33m,\u001b[0m \u001b[0mchunksize\u001b[0m\u001b[1;33m=\u001b[0m\u001b[1;36m100\u001b[0m\u001b[1;33m,\u001b[0m \u001b[0mmethod\u001b[0m\u001b[1;33m=\u001b[0m\u001b[1;34m'multi'\u001b[0m\u001b[1;33m)\u001b[0m\u001b[1;33m\u001b[0m\u001b[1;33m\u001b[0m\u001b[0m\n\u001b[0m",
      "\u001b[1;32mc:\\Users\\Werk\\anaconda3\\envs\\ticketswap-assignment\\lib\\site-packages\\pandas\\core\\generic.py\u001b[0m in \u001b[0;36mto_sql\u001b[1;34m(self, name, con, schema, if_exists, index, index_label, chunksize, dtype, method)\u001b[0m\n\u001b[0;32m   2880\u001b[0m             \u001b[0mchunksize\u001b[0m\u001b[1;33m=\u001b[0m\u001b[0mchunksize\u001b[0m\u001b[1;33m,\u001b[0m\u001b[1;33m\u001b[0m\u001b[1;33m\u001b[0m\u001b[0m\n\u001b[0;32m   2881\u001b[0m             \u001b[0mdtype\u001b[0m\u001b[1;33m=\u001b[0m\u001b[0mdtype\u001b[0m\u001b[1;33m,\u001b[0m\u001b[1;33m\u001b[0m\u001b[1;33m\u001b[0m\u001b[0m\n\u001b[1;32m-> 2882\u001b[1;33m             \u001b[0mmethod\u001b[0m\u001b[1;33m=\u001b[0m\u001b[0mmethod\u001b[0m\u001b[1;33m,\u001b[0m\u001b[1;33m\u001b[0m\u001b[1;33m\u001b[0m\u001b[0m\n\u001b[0m\u001b[0;32m   2883\u001b[0m         )\n\u001b[0;32m   2884\u001b[0m \u001b[1;33m\u001b[0m\u001b[0m\n",
      "\u001b[1;32mc:\\Users\\Werk\\anaconda3\\envs\\ticketswap-assignment\\lib\\site-packages\\pandas\\io\\sql.py\u001b[0m in \u001b[0;36mto_sql\u001b[1;34m(frame, name, con, schema, if_exists, index, index_label, chunksize, dtype, method, engine, **engine_kwargs)\u001b[0m\n\u001b[0;32m    726\u001b[0m         \u001b[0mmethod\u001b[0m\u001b[1;33m=\u001b[0m\u001b[0mmethod\u001b[0m\u001b[1;33m,\u001b[0m\u001b[1;33m\u001b[0m\u001b[1;33m\u001b[0m\u001b[0m\n\u001b[0;32m    727\u001b[0m         \u001b[0mengine\u001b[0m\u001b[1;33m=\u001b[0m\u001b[0mengine\u001b[0m\u001b[1;33m,\u001b[0m\u001b[1;33m\u001b[0m\u001b[1;33m\u001b[0m\u001b[0m\n\u001b[1;32m--> 728\u001b[1;33m         \u001b[1;33m**\u001b[0m\u001b[0mengine_kwargs\u001b[0m\u001b[1;33m,\u001b[0m\u001b[1;33m\u001b[0m\u001b[1;33m\u001b[0m\u001b[0m\n\u001b[0m\u001b[0;32m    729\u001b[0m     )\n\u001b[0;32m    730\u001b[0m \u001b[1;33m\u001b[0m\u001b[0m\n",
      "\u001b[1;32mc:\\Users\\Werk\\anaconda3\\envs\\ticketswap-assignment\\lib\\site-packages\\pandas\\io\\sql.py\u001b[0m in \u001b[0;36mto_sql\u001b[1;34m(self, frame, name, if_exists, index, index_label, schema, chunksize, dtype, method, engine, **engine_kwargs)\u001b[0m\n\u001b[0;32m   1768\u001b[0m             \u001b[0mchunksize\u001b[0m\u001b[1;33m=\u001b[0m\u001b[0mchunksize\u001b[0m\u001b[1;33m,\u001b[0m\u001b[1;33m\u001b[0m\u001b[1;33m\u001b[0m\u001b[0m\n\u001b[0;32m   1769\u001b[0m             \u001b[0mmethod\u001b[0m\u001b[1;33m=\u001b[0m\u001b[0mmethod\u001b[0m\u001b[1;33m,\u001b[0m\u001b[1;33m\u001b[0m\u001b[1;33m\u001b[0m\u001b[0m\n\u001b[1;32m-> 1770\u001b[1;33m             \u001b[1;33m**\u001b[0m\u001b[0mengine_kwargs\u001b[0m\u001b[1;33m,\u001b[0m\u001b[1;33m\u001b[0m\u001b[1;33m\u001b[0m\u001b[0m\n\u001b[0m\u001b[0;32m   1771\u001b[0m         )\n\u001b[0;32m   1772\u001b[0m \u001b[1;33m\u001b[0m\u001b[0m\n",
      "\u001b[1;32mc:\\Users\\Werk\\anaconda3\\envs\\ticketswap-assignment\\lib\\site-packages\\pandas\\io\\sql.py\u001b[0m in \u001b[0;36minsert_records\u001b[1;34m(self, table, con, frame, name, index, schema, chunksize, method, **engine_kwargs)\u001b[0m\n\u001b[0;32m   1348\u001b[0m                 \u001b[1;32mraise\u001b[0m \u001b[0mValueError\u001b[0m\u001b[1;33m(\u001b[0m\u001b[1;34m\"inf cannot be used with MySQL\"\u001b[0m\u001b[1;33m)\u001b[0m \u001b[1;32mfrom\u001b[0m \u001b[0merr\u001b[0m\u001b[1;33m\u001b[0m\u001b[1;33m\u001b[0m\u001b[0m\n\u001b[0;32m   1349\u001b[0m             \u001b[1;32melse\u001b[0m\u001b[1;33m:\u001b[0m\u001b[1;33m\u001b[0m\u001b[1;33m\u001b[0m\u001b[0m\n\u001b[1;32m-> 1350\u001b[1;33m                 \u001b[1;32mraise\u001b[0m \u001b[0merr\u001b[0m\u001b[1;33m\u001b[0m\u001b[1;33m\u001b[0m\u001b[0m\n\u001b[0m\u001b[0;32m   1351\u001b[0m \u001b[1;33m\u001b[0m\u001b[0m\n\u001b[0;32m   1352\u001b[0m \u001b[1;33m\u001b[0m\u001b[0m\n",
      "\u001b[1;32mc:\\Users\\Werk\\anaconda3\\envs\\ticketswap-assignment\\lib\\site-packages\\pandas\\io\\sql.py\u001b[0m in \u001b[0;36minsert_records\u001b[1;34m(self, table, con, frame, name, index, schema, chunksize, method, **engine_kwargs)\u001b[0m\n\u001b[0;32m   1338\u001b[0m \u001b[1;33m\u001b[0m\u001b[0m\n\u001b[0;32m   1339\u001b[0m         \u001b[1;32mtry\u001b[0m\u001b[1;33m:\u001b[0m\u001b[1;33m\u001b[0m\u001b[1;33m\u001b[0m\u001b[0m\n\u001b[1;32m-> 1340\u001b[1;33m             \u001b[0mtable\u001b[0m\u001b[1;33m.\u001b[0m\u001b[0minsert\u001b[0m\u001b[1;33m(\u001b[0m\u001b[0mchunksize\u001b[0m\u001b[1;33m=\u001b[0m\u001b[0mchunksize\u001b[0m\u001b[1;33m,\u001b[0m \u001b[0mmethod\u001b[0m\u001b[1;33m=\u001b[0m\u001b[0mmethod\u001b[0m\u001b[1;33m)\u001b[0m\u001b[1;33m\u001b[0m\u001b[1;33m\u001b[0m\u001b[0m\n\u001b[0m\u001b[0;32m   1341\u001b[0m         \u001b[1;32mexcept\u001b[0m \u001b[0mexc\u001b[0m\u001b[1;33m.\u001b[0m\u001b[0mSQLAlchemyError\u001b[0m \u001b[1;32mas\u001b[0m \u001b[0merr\u001b[0m\u001b[1;33m:\u001b[0m\u001b[1;33m\u001b[0m\u001b[1;33m\u001b[0m\u001b[0m\n\u001b[0;32m   1342\u001b[0m             \u001b[1;31m# GH34431\u001b[0m\u001b[1;33m\u001b[0m\u001b[1;33m\u001b[0m\u001b[1;33m\u001b[0m\u001b[0m\n",
      "\u001b[1;32mc:\\Users\\Werk\\anaconda3\\envs\\ticketswap-assignment\\lib\\site-packages\\pandas\\io\\sql.py\u001b[0m in \u001b[0;36minsert\u001b[1;34m(self, chunksize, method)\u001b[0m\n\u001b[0;32m    965\u001b[0m \u001b[1;33m\u001b[0m\u001b[0m\n\u001b[0;32m    966\u001b[0m                 \u001b[0mchunk_iter\u001b[0m \u001b[1;33m=\u001b[0m \u001b[0mzip\u001b[0m\u001b[1;33m(\u001b[0m\u001b[1;33m*\u001b[0m\u001b[1;33m[\u001b[0m\u001b[0marr\u001b[0m\u001b[1;33m[\u001b[0m\u001b[0mstart_i\u001b[0m\u001b[1;33m:\u001b[0m\u001b[0mend_i\u001b[0m\u001b[1;33m]\u001b[0m \u001b[1;32mfor\u001b[0m \u001b[0marr\u001b[0m \u001b[1;32min\u001b[0m \u001b[0mdata_list\u001b[0m\u001b[1;33m]\u001b[0m\u001b[1;33m)\u001b[0m\u001b[1;33m\u001b[0m\u001b[1;33m\u001b[0m\u001b[0m\n\u001b[1;32m--> 967\u001b[1;33m                 \u001b[0mexec_insert\u001b[0m\u001b[1;33m(\u001b[0m\u001b[0mconn\u001b[0m\u001b[1;33m,\u001b[0m \u001b[0mkeys\u001b[0m\u001b[1;33m,\u001b[0m \u001b[0mchunk_iter\u001b[0m\u001b[1;33m)\u001b[0m\u001b[1;33m\u001b[0m\u001b[1;33m\u001b[0m\u001b[0m\n\u001b[0m\u001b[0;32m    968\u001b[0m \u001b[1;33m\u001b[0m\u001b[0m\n\u001b[0;32m    969\u001b[0m     def _query_iterator(\n",
      "\u001b[1;32mc:\\Users\\Werk\\anaconda3\\envs\\ticketswap-assignment\\lib\\site-packages\\pandas\\io\\sql.py\u001b[0m in \u001b[0;36m_execute_insert_multi\u001b[1;34m(self, conn, keys, data_iter)\u001b[0m\n\u001b[0;32m    891\u001b[0m         \"\"\"\n\u001b[0;32m    892\u001b[0m         \u001b[0mdata\u001b[0m \u001b[1;33m=\u001b[0m \u001b[1;33m[\u001b[0m\u001b[0mdict\u001b[0m\u001b[1;33m(\u001b[0m\u001b[0mzip\u001b[0m\u001b[1;33m(\u001b[0m\u001b[0mkeys\u001b[0m\u001b[1;33m,\u001b[0m \u001b[0mrow\u001b[0m\u001b[1;33m)\u001b[0m\u001b[1;33m)\u001b[0m \u001b[1;32mfor\u001b[0m \u001b[0mrow\u001b[0m \u001b[1;32min\u001b[0m \u001b[0mdata_iter\u001b[0m\u001b[1;33m]\u001b[0m\u001b[1;33m\u001b[0m\u001b[1;33m\u001b[0m\u001b[0m\n\u001b[1;32m--> 893\u001b[1;33m         \u001b[0mconn\u001b[0m\u001b[1;33m.\u001b[0m\u001b[0mexecute\u001b[0m\u001b[1;33m(\u001b[0m\u001b[0mself\u001b[0m\u001b[1;33m.\u001b[0m\u001b[0mtable\u001b[0m\u001b[1;33m.\u001b[0m\u001b[0minsert\u001b[0m\u001b[1;33m(\u001b[0m\u001b[0mdata\u001b[0m\u001b[1;33m)\u001b[0m\u001b[1;33m)\u001b[0m\u001b[1;33m\u001b[0m\u001b[1;33m\u001b[0m\u001b[0m\n\u001b[0m\u001b[0;32m    894\u001b[0m \u001b[1;33m\u001b[0m\u001b[0m\n\u001b[0;32m    895\u001b[0m     \u001b[1;32mdef\u001b[0m \u001b[0minsert_data\u001b[0m\u001b[1;33m(\u001b[0m\u001b[0mself\u001b[0m\u001b[1;33m)\u001b[0m\u001b[1;33m:\u001b[0m\u001b[1;33m\u001b[0m\u001b[1;33m\u001b[0m\u001b[0m\n",
      "\u001b[1;32mc:\\Users\\Werk\\anaconda3\\envs\\ticketswap-assignment\\lib\\site-packages\\sqlalchemy\\engine\\base.py\u001b[0m in \u001b[0;36mexecute\u001b[1;34m(self, statement, *multiparams, **params)\u001b[0m\n\u001b[0;32m   1378\u001b[0m             )\n\u001b[0;32m   1379\u001b[0m         \u001b[1;32melse\u001b[0m\u001b[1;33m:\u001b[0m\u001b[1;33m\u001b[0m\u001b[1;33m\u001b[0m\u001b[0m\n\u001b[1;32m-> 1380\u001b[1;33m             \u001b[1;32mreturn\u001b[0m \u001b[0mmeth\u001b[0m\u001b[1;33m(\u001b[0m\u001b[0mself\u001b[0m\u001b[1;33m,\u001b[0m \u001b[0mmultiparams\u001b[0m\u001b[1;33m,\u001b[0m \u001b[0mparams\u001b[0m\u001b[1;33m,\u001b[0m \u001b[0m_EMPTY_EXECUTION_OPTS\u001b[0m\u001b[1;33m)\u001b[0m\u001b[1;33m\u001b[0m\u001b[1;33m\u001b[0m\u001b[0m\n\u001b[0m\u001b[0;32m   1381\u001b[0m \u001b[1;33m\u001b[0m\u001b[0m\n\u001b[0;32m   1382\u001b[0m     \u001b[1;32mdef\u001b[0m \u001b[0m_execute_function\u001b[0m\u001b[1;33m(\u001b[0m\u001b[0mself\u001b[0m\u001b[1;33m,\u001b[0m \u001b[0mfunc\u001b[0m\u001b[1;33m,\u001b[0m \u001b[0mmultiparams\u001b[0m\u001b[1;33m,\u001b[0m \u001b[0mparams\u001b[0m\u001b[1;33m,\u001b[0m \u001b[0mexecution_options\u001b[0m\u001b[1;33m)\u001b[0m\u001b[1;33m:\u001b[0m\u001b[1;33m\u001b[0m\u001b[1;33m\u001b[0m\u001b[0m\n",
      "\u001b[1;32mc:\\Users\\Werk\\anaconda3\\envs\\ticketswap-assignment\\lib\\site-packages\\sqlalchemy\\sql\\elements.py\u001b[0m in \u001b[0;36m_execute_on_connection\u001b[1;34m(self, connection, multiparams, params, execution_options, _force)\u001b[0m\n\u001b[0;32m    332\u001b[0m         \u001b[1;32mif\u001b[0m \u001b[0m_force\u001b[0m \u001b[1;32mor\u001b[0m \u001b[0mself\u001b[0m\u001b[1;33m.\u001b[0m\u001b[0msupports_execution\u001b[0m\u001b[1;33m:\u001b[0m\u001b[1;33m\u001b[0m\u001b[1;33m\u001b[0m\u001b[0m\n\u001b[0;32m    333\u001b[0m             return connection._execute_clauseelement(\n\u001b[1;32m--> 334\u001b[1;33m                 \u001b[0mself\u001b[0m\u001b[1;33m,\u001b[0m \u001b[0mmultiparams\u001b[0m\u001b[1;33m,\u001b[0m \u001b[0mparams\u001b[0m\u001b[1;33m,\u001b[0m \u001b[0mexecution_options\u001b[0m\u001b[1;33m\u001b[0m\u001b[1;33m\u001b[0m\u001b[0m\n\u001b[0m\u001b[0;32m    335\u001b[0m             )\n\u001b[0;32m    336\u001b[0m         \u001b[1;32melse\u001b[0m\u001b[1;33m:\u001b[0m\u001b[1;33m\u001b[0m\u001b[1;33m\u001b[0m\u001b[0m\n",
      "\u001b[1;32mc:\\Users\\Werk\\anaconda3\\envs\\ticketswap-assignment\\lib\\site-packages\\sqlalchemy\\engine\\base.py\u001b[0m in \u001b[0;36m_execute_clauseelement\u001b[1;34m(self, elem, multiparams, params, execution_options)\u001b[0m\n\u001b[0;32m   1580\u001b[0m             \u001b[0melem\u001b[0m\u001b[1;33m,\u001b[0m\u001b[1;33m\u001b[0m\u001b[1;33m\u001b[0m\u001b[0m\n\u001b[0;32m   1581\u001b[0m             \u001b[0mextracted_params\u001b[0m\u001b[1;33m,\u001b[0m\u001b[1;33m\u001b[0m\u001b[1;33m\u001b[0m\u001b[0m\n\u001b[1;32m-> 1582\u001b[1;33m             \u001b[0mcache_hit\u001b[0m\u001b[1;33m=\u001b[0m\u001b[0mcache_hit\u001b[0m\u001b[1;33m,\u001b[0m\u001b[1;33m\u001b[0m\u001b[1;33m\u001b[0m\u001b[0m\n\u001b[0m\u001b[0;32m   1583\u001b[0m         )\n\u001b[0;32m   1584\u001b[0m         \u001b[1;32mif\u001b[0m \u001b[0mhas_events\u001b[0m\u001b[1;33m:\u001b[0m\u001b[1;33m\u001b[0m\u001b[1;33m\u001b[0m\u001b[0m\n",
      "\u001b[1;32mc:\\Users\\Werk\\anaconda3\\envs\\ticketswap-assignment\\lib\\site-packages\\sqlalchemy\\engine\\base.py\u001b[0m in \u001b[0;36m_execute_context\u001b[1;34m(self, dialect, constructor, statement, parameters, execution_options, *args, **kw)\u001b[0m\n\u001b[0;32m   1942\u001b[0m         \u001b[1;32mexcept\u001b[0m \u001b[0mBaseException\u001b[0m \u001b[1;32mas\u001b[0m \u001b[0me\u001b[0m\u001b[1;33m:\u001b[0m\u001b[1;33m\u001b[0m\u001b[1;33m\u001b[0m\u001b[0m\n\u001b[0;32m   1943\u001b[0m             self._handle_dbapi_exception(\n\u001b[1;32m-> 1944\u001b[1;33m                 \u001b[0me\u001b[0m\u001b[1;33m,\u001b[0m \u001b[0mstatement\u001b[0m\u001b[1;33m,\u001b[0m \u001b[0mparameters\u001b[0m\u001b[1;33m,\u001b[0m \u001b[0mcursor\u001b[0m\u001b[1;33m,\u001b[0m \u001b[0mcontext\u001b[0m\u001b[1;33m\u001b[0m\u001b[1;33m\u001b[0m\u001b[0m\n\u001b[0m\u001b[0;32m   1945\u001b[0m             )\n\u001b[0;32m   1946\u001b[0m \u001b[1;33m\u001b[0m\u001b[0m\n",
      "\u001b[1;32mc:\\Users\\Werk\\anaconda3\\envs\\ticketswap-assignment\\lib\\site-packages\\sqlalchemy\\engine\\base.py\u001b[0m in \u001b[0;36m_handle_dbapi_exception\u001b[1;34m(self, e, statement, parameters, cursor, context)\u001b[0m\n\u001b[0;32m   2123\u001b[0m             \u001b[1;32melif\u001b[0m \u001b[0mshould_wrap\u001b[0m\u001b[1;33m:\u001b[0m\u001b[1;33m\u001b[0m\u001b[1;33m\u001b[0m\u001b[0m\n\u001b[0;32m   2124\u001b[0m                 util.raise_(\n\u001b[1;32m-> 2125\u001b[1;33m                     \u001b[0msqlalchemy_exception\u001b[0m\u001b[1;33m,\u001b[0m \u001b[0mwith_traceback\u001b[0m\u001b[1;33m=\u001b[0m\u001b[0mexc_info\u001b[0m\u001b[1;33m[\u001b[0m\u001b[1;36m2\u001b[0m\u001b[1;33m]\u001b[0m\u001b[1;33m,\u001b[0m \u001b[0mfrom_\u001b[0m\u001b[1;33m=\u001b[0m\u001b[0me\u001b[0m\u001b[1;33m\u001b[0m\u001b[1;33m\u001b[0m\u001b[0m\n\u001b[0m\u001b[0;32m   2126\u001b[0m                 )\n\u001b[0;32m   2127\u001b[0m             \u001b[1;32melse\u001b[0m\u001b[1;33m:\u001b[0m\u001b[1;33m\u001b[0m\u001b[1;33m\u001b[0m\u001b[0m\n",
      "\u001b[1;32mc:\\Users\\Werk\\anaconda3\\envs\\ticketswap-assignment\\lib\\site-packages\\sqlalchemy\\util\\compat.py\u001b[0m in \u001b[0;36mraise_\u001b[1;34m(***failed resolving arguments***)\u001b[0m\n\u001b[0;32m    206\u001b[0m \u001b[1;33m\u001b[0m\u001b[0m\n\u001b[0;32m    207\u001b[0m         \u001b[1;32mtry\u001b[0m\u001b[1;33m:\u001b[0m\u001b[1;33m\u001b[0m\u001b[1;33m\u001b[0m\u001b[0m\n\u001b[1;32m--> 208\u001b[1;33m             \u001b[1;32mraise\u001b[0m \u001b[0mexception\u001b[0m\u001b[1;33m\u001b[0m\u001b[1;33m\u001b[0m\u001b[0m\n\u001b[0m\u001b[0;32m    209\u001b[0m         \u001b[1;32mfinally\u001b[0m\u001b[1;33m:\u001b[0m\u001b[1;33m\u001b[0m\u001b[1;33m\u001b[0m\u001b[0m\n\u001b[0;32m    210\u001b[0m             \u001b[1;31m# credit to\u001b[0m\u001b[1;33m\u001b[0m\u001b[1;33m\u001b[0m\u001b[1;33m\u001b[0m\u001b[0m\n",
      "\u001b[1;32mc:\\Users\\Werk\\anaconda3\\envs\\ticketswap-assignment\\lib\\site-packages\\sqlalchemy\\engine\\base.py\u001b[0m in \u001b[0;36m_execute_context\u001b[1;34m(self, dialect, constructor, statement, parameters, execution_options, *args, **kw)\u001b[0m\n\u001b[0;32m   1899\u001b[0m                 \u001b[1;32mif\u001b[0m \u001b[1;32mnot\u001b[0m \u001b[0mevt_handled\u001b[0m\u001b[1;33m:\u001b[0m\u001b[1;33m\u001b[0m\u001b[1;33m\u001b[0m\u001b[0m\n\u001b[0;32m   1900\u001b[0m                     self.dialect.do_execute(\n\u001b[1;32m-> 1901\u001b[1;33m                         \u001b[0mcursor\u001b[0m\u001b[1;33m,\u001b[0m \u001b[0mstatement\u001b[0m\u001b[1;33m,\u001b[0m \u001b[0mparameters\u001b[0m\u001b[1;33m,\u001b[0m \u001b[0mcontext\u001b[0m\u001b[1;33m\u001b[0m\u001b[1;33m\u001b[0m\u001b[0m\n\u001b[0m\u001b[0;32m   1902\u001b[0m                     )\n\u001b[0;32m   1903\u001b[0m \u001b[1;33m\u001b[0m\u001b[0m\n",
      "\u001b[1;32mc:\\Users\\Werk\\anaconda3\\envs\\ticketswap-assignment\\lib\\site-packages\\sqlalchemy\\engine\\default.py\u001b[0m in \u001b[0;36mdo_execute\u001b[1;34m(self, cursor, statement, parameters, context)\u001b[0m\n\u001b[0;32m    730\u001b[0m \u001b[1;33m\u001b[0m\u001b[0m\n\u001b[0;32m    731\u001b[0m     \u001b[1;32mdef\u001b[0m \u001b[0mdo_execute\u001b[0m\u001b[1;33m(\u001b[0m\u001b[0mself\u001b[0m\u001b[1;33m,\u001b[0m \u001b[0mcursor\u001b[0m\u001b[1;33m,\u001b[0m \u001b[0mstatement\u001b[0m\u001b[1;33m,\u001b[0m \u001b[0mparameters\u001b[0m\u001b[1;33m,\u001b[0m \u001b[0mcontext\u001b[0m\u001b[1;33m=\u001b[0m\u001b[1;32mNone\u001b[0m\u001b[1;33m)\u001b[0m\u001b[1;33m:\u001b[0m\u001b[1;33m\u001b[0m\u001b[1;33m\u001b[0m\u001b[0m\n\u001b[1;32m--> 732\u001b[1;33m         \u001b[0mcursor\u001b[0m\u001b[1;33m.\u001b[0m\u001b[0mexecute\u001b[0m\u001b[1;33m(\u001b[0m\u001b[0mstatement\u001b[0m\u001b[1;33m,\u001b[0m \u001b[0mparameters\u001b[0m\u001b[1;33m)\u001b[0m\u001b[1;33m\u001b[0m\u001b[1;33m\u001b[0m\u001b[0m\n\u001b[0m\u001b[0;32m    733\u001b[0m \u001b[1;33m\u001b[0m\u001b[0m\n\u001b[0;32m    734\u001b[0m     \u001b[1;32mdef\u001b[0m \u001b[0mdo_execute_no_params\u001b[0m\u001b[1;33m(\u001b[0m\u001b[0mself\u001b[0m\u001b[1;33m,\u001b[0m \u001b[0mcursor\u001b[0m\u001b[1;33m,\u001b[0m \u001b[0mstatement\u001b[0m\u001b[1;33m,\u001b[0m \u001b[0mcontext\u001b[0m\u001b[1;33m=\u001b[0m\u001b[1;32mNone\u001b[0m\u001b[1;33m)\u001b[0m\u001b[1;33m:\u001b[0m\u001b[1;33m\u001b[0m\u001b[1;33m\u001b[0m\u001b[0m\n",
      "\u001b[1;31mProgrammingError\u001b[0m: (pyodbc.ProgrammingError) ('42S22', \"[42S22] [Microsoft][SQL Server Native Client 11.0][SQL Server]Invalid column name 'comments_contentlicense'. (207) (SQLExecDirectW); [42S22] [Microsoft][SQL Server Native Client 11.0][SQL Server]Invalid column name 'comments_contentlicense'. (207); [42S22] [Microsoft][SQL Server Native Client 11.0][SQL Server]Statement(s) could not be prepared. (8180)\")\n[SQL: INSERT INTO comments (comments_contentlicense, comments_creationdate, comments_id, comments_postid, comments_score, comments_userid) VALUES (?, ?, ?, ?, ?, ?), (?, ?, ?, ?, ?, ?), (?, ?, ?, ?, ?, ?), (?, ?, ?, ?, ?, ?), (?, ?, ?, ?, ?, ?), (?, ?, ?, ?, ?, ?), (?, ?, ?, ?, ?, ?), (?, ?, ?, ?, ?, ?), (?, ?, ?, ?, ?, ?), (?, ?, ?, ?, ?, ?), (?, ?, ?, ?, ?, ?), (?, ?, ?, ?, ?, ?), (?, ?, ?, ?, ?, ?), (?, ?, ?, ?, ?, ?), (?, ?, ?, ?, ?, ?), (?, ?, ?, ?, ?, ?), (?, ?, ?, ?, ?, ?), (?, ?, ?, ?, ?, ?), (?, ?, ?, ?, ?, ?), (?, ?, ?, ?, ?, ?), (?, ?, ?, ?, ?, ?), (?, ?, ?, ?, ?, ?), (?, ?, ?, ?, ?, ?), (?, ?, ?, ?, ?, ?), (?, ?, ?, ?, ?, ?), (?, ?, ?, ?, ?, ?), (?, ?, ?, ?, ?, ?), (?, ?, ?, ?, ?, ?), (?, ?, ?, ?, ?, ?), (?, ?, ?, ?, ?, ?), (?, ?, ?, ?, ?, ?), (?, ?, ?, ?, ?, ?), (?, ?, ?, ?, ?, ?), (?, ?, ?, ?, ?, ?), (?, ?, ?, ?, ?, ?), (?, ?, ?, ?, ?, ?), (?, ?, ?, ?, ?, ?), (?, ?, ?, ?, ?, ?), (?, ?, ?, ?, ?, ?), (?, ?, ?, ?, ?, ?), (?, ?, ?, ?, ?, ?), (?, ?, ?, ?, ?, ?), (?, ?, ?, ?, ?, ?), (?, ?, ?, ?, ?, ?), (?, ?, ?, ?, ?, ?), (?, ?, ?, ?, ?, ?), (?, ?, ?, ?, ?, ?), (?, ?, ?, ?, ?, ?), (?, ?, ?, ?, ?, ?), (?, ?, ?, ?, ?, ?), (?, ?, ?, ?, ?, ?), (?, ?, ?, ?, ?, ?), (?, ?, ?, ?, ?, ?), (?, ?, ?, ?, ?, ?), (?, ?, ?, ?, ?, ?), (?, ?, ?, ?, ?, ?), (?, ?, ?, ?, ?, ?), (?, ?, ?, ?, ?, ?), (?, ?, ?, ?, ?, ?), (?, ?, ?, ?, ?, ?), (?, ?, ?, ?, ?, ?), (?, ?, ?, ?, ?, ?), (?, ?, ?, ?, ?, ?), (?, ?, ?, ?, ?, ?), (?, ?, ?, ?, ?, ?), (?, ?, ?, ?, ?, ?), (?, ?, ?, ?, ?, ?), (?, ?, ?, ?, ?, ?), (?, ?, ?, ?, ?, ?), (?, ?, ?, ?, ?, ?), (?, ?, ?, ?, ?, ?), (?, ?, ?, ?, ?, ?), (?, ?, ?, ?, ?, ?), (?, ?, ?, ?, ?, ?), (?, ?, ?, ?, ?, ?), (?, ?, ?, ?, ?, ?), (?, ?, ?, ?, ?, ?), (?, ?, ?, ?, ?, ?), (?, ?, ?, ?, ?, ?), (?, ?, ?, ?, ?, ?), (?, ?, ?, ?, ?, ?), (?, ?, ?, ?, ?, ?), (?, ?, ?, ?, ?, ?), (?, ?, ?, ?, ?, ?), (?, ?, ?, ?, ?, ?), (?, ?, ?, ?, ?, ?), (?, ?, ?, ?, ?, ?), (?, ?, ?, ?, ?, ?), (?, ?, ?, ?, ?, ?), (?, ?, ?, ?, ?, ?), (?, ?, ?, ?, ?, ?), (?, ?, ?, ?, ?, ?), (?, ?, ?, ?, ?, ?), (?, ?, ?, ?, ?, ?), (?, ?, ?, ?, ?, ?), (?, ?, ?, ?, ?, ?), (?, ?, ?, ?, ?, ?), (?, ?, ?, ?, ?, ?), (?, ?, ?, ?, ?, ?), (?, ?, ?, ?, ?, ?)]\n[parameters: ('CC BY-SA 3.0', '2015-03-17T15:23:35.850', 2, 1, 3, 33.0, 'CC BY-SA 3.0', '2015-03-17T15:25:14.843', 3, 2, 0, 32.0, 'CC BY-SA 3.0', '2015-03-17T15:25:18.220', 4, 5, 0, 14.0, 'CC BY-SA 3.0', '2015-03-17T15:25:59.820', 5, 1, 3, 23.0, 'CC BY-SA 3.0', '2015-03-17T15:26:41.430', 6, 7, 1, 31.0, 'CC BY-SA 3.0', '2015-03-17T15:27:54.377', 7, 2, 0, 11.0, 'CC BY-SA 3.0', '2015-03-17T15:30:20.820', 8, 10, 1, 11.0, 'CC BY-SA 3.0', '2015-03-17T15:31:56.780', 9, 11, 2, None, 'CC BY-SA 3.0', '2015-03-17T15:32:12.277', 10, 10, 1, 25.0, 'CC BY-SA 3.0', '2015-03-17T15:33:07.850', 11, 9, 1, 25.0, 'CC BY-SA 3.0', '2015-03-17T15:33:09.977', 12, 3, 0, 14.0, 'CC BY-SA 3.0', '2015-03-17T15:34:45.567', 13, 5, 3, 25.0, 'CC BY-SA 3.0', '2015-03-17T15:37:43.290', 14, 8, 0, 3.0, 'CC BY-SA 3.0', '2015-03-17T15:38:22.673', 16, 3, 0, 24.0, 'CC BY-SA 3.0', '2015-03-17T15:38:31.027', 17, 16, 0, 25.0, 'CC BY-SA 3.0', '2015-03-17T15:39:24.017', 18, 11, 1, 35.0, 'CC BY-SA 3.0', '2015-03-17T15:40:22.670', 19, 19, 2, 3.0, 'CC BY-SA 3.0', '2015-03-17T15:40:25.093', 20, 16, 0, None, 'CC BY-SA 3.0', '2015-03-17T15:43:48.827', 21, 11, 0, 23.0, 'CC BY-SA 3.0', '2015-03-17T15:45:12.147', 22, 27, 2, 14.0, 'CC BY-SA 3.0', '2015-03-17T15:47:05.587', 23, 26, 0, 3.0, 'CC BY-SA 3.0', '2015-03-17T15:48:19.713', 24, 28, 0, 38.0, 'CC BY-SA 3.0', '2015-03-17T15:51:15.463', 27, 28, 0, 3.0, 'CC BY-SA 3.0', '2015-03-17T15:52:44.513', 28, 32, 3, 31.0, 'CC BY-SA 3.0', '2015-03-17T15:54:53.283', 29, 26, 1, 31.0, 'CC BY-SA 3.0', '2015-03-17T15:57:28.017', 30, 5, 0, 34.0, 'CC BY-SA 3.0', '2015-03-17T15:59:43.747', 31, 5, 1, 34.0, 'CC BY-SA 3.0', '2015-03-17T16:00:22.560', 32, 5, 0, 14.0, 'CC BY-SA 3.0', '2015-03-17T16:01:44.793', 33, 35, 2, 43.0, 'CC BY-SA 3.0', '2015-03-17T16:02:29.957', 34, 26, 0, 34.0, 'CC BY-SA 3.0', '2015-03-17T16:02:32.620', 35, 35, 0, 3.0, 'CC BY-SA 3.0', '2015-03-17T16:03:13.630', 37, 35, 0, 25.0, 'CC BY-SA 3.0', '2015-03-17T16:03:49.190', 38, 38, 0, 14.0, 'CC BY-SA 3.0', '2015-03-17T16:04:02.367', 39, 38, 0, 14.0, 'CC BY-SA 3.0', '2015-03-17T16:05:19.377', 40, 38, 0, 34.0, 'CC BY-SA 3.0', '2015-03-17T16:08:37.097', 41, 35, 3, 68.0, 'CC BY-SA 3.0', '2015-03-17T16:13:01.440', 42, 19, 0, 52.0, 'CC BY-SA 3.0', '2015-03-17T16:16:42.407', 43, 39, 2, 43.0, 'CC BY-SA 3.0', '2015-03-17T16:17:55.187', 44, 47, 5, 11.0, 'CC BY-SA 3.0', '2015-03-17T16:18:23.433', 45, 39, 0, 31.0, 'CC BY-SA 3.0', '2015-03-17T16:19:52.753', 46, 14, 0, 32.0, 'CC BY-SA 3.0', '2015-03-17T16:22:17.773', 47, 50, 1, 31.0, 'CC BY-SA 3.0', '2015-03-17T16:23:28.223', 48, 9, 0, 31.0, 'CC BY-SA 3.0', '2015-03-17T16:26:00.773', 49, 21, 0, 75.0, 'CC BY-SA 3.0', '2015-03-17T16:27:24.717', 50, 50, 0, 10.0, 'CC BY-SA 3.0', '2015-03-17T16:28:38.257', 51, 5, 1, 75.0, 'CC BY-SA 3.0', '2015-03-17T16:28:55.067', 52, 9, 0, 27.0, 'CC BY-SA 3.0', '2015-03-17T16:29:20.280', 53, 51, 0, 38.0, 'CC BY-SA 3.0', '2015-03-17T16:31:48.940', 54, 51, 0, 27.0, 'CC BY-SA 3.0', '2015-03-17T16:36:05.330', 55, 56, 0, 31.0, 'CC BY-SA 3.0', '2015-03-17T16:36:45.350', 56, 56, 0, 74.0, 'CC BY-SA 3.0', '2015-03-17T16:37:14.253', 57, 40, 1, 10.0, 'CC BY-SA 3.0', '2015-03-17T16:38:45.313', 58, 40, 2, 27.0, 'CC BY-SA 3.0', '2015-03-17T16:55:24.337', 59, 40, 2, 52.0, 'CC BY-SA 3.0', '2015-03-17T16:57:02.900', 60, 35, 0, 3.0, 'CC BY-SA 3.0', '2015-03-17T17:00:38.917', 61, 30, 0, 31.0, 'CC BY-SA 3.0', '2015-03-17T17:01:42.007', 62, 30, 0, 27.0, 'CC BY-SA 3.0', '2015-03-17T17:06:30.220', 63, 59, 1, 31.0, 'CC BY-SA 3.0', '2015-03-17T17:07:49.740', 64, 61, 1, 31.0, 'CC BY-SA 3.0', '2015-03-17T17:11:03.110', 65, 59, 0, 77.0, 'CC BY-SA 3.0', '2015-03-17T17:12:21.560', 67, 61, 0, 25.0, 'CC BY-SA 3.0', '2015-03-17T17:15:45.137', 68, 43, 0, 83.0, 'CC BY-SA 3.0', '2015-03-17T17:17:44.327', 69, 1, 2, 80.0, 'CC BY-SA 3.0', '2015-03-17T17:18:26.343', 71, 59, 0, 31.0, 'CC BY-SA 3.0', '2015-03-17T17:21:27.617', 72, 59, 0, 77.0, 'CC BY-SA 3.0', '2015-03-17T17:21:46.457', 73, 61, 0, 31.0, 'CC BY-SA 3.0', '2015-03-17T17:22:14.787', 74, 63, 1, 20.0, 'CC BY-SA 3.0', '2015-03-17T17:22:25.990', 75, 68, 0, 38.0, 'CC BY-SA 3.0', '2015-03-17T17:26:48.097', 77, 63, 0, 14.0, 'CC BY-SA 3.0', '2015-03-17T17:27:21.220', 78, 65, 1, 31.0, 'CC BY-SA 3.0', '2015-03-17T17:27:56.133', 79, 69, 1, 38.0, 'CC BY-SA 3.0', '2015-03-17T17:28:28.307', 80, 63, 0, 83.0, 'CC BY-SA 3.0', '2015-03-17T17:30:19.847', 81, 67, 1, 31.0, 'CC BY-SA 3.0', '2015-03-17T17:34:17.060', 83, 71, 4, 25.0, 'CC BY-SA 3.0', '2015-03-17T17:35:39.833', 84, 68, 0, 81.0, 'CC BY-SA 3.0', '2015-03-17T17:35:41.090', 85, 71, 5, 14.0, 'CC BY-SA 3.0', '2015-03-17T17:36:38.470', 86, 67, 0, 83.0, 'CC BY-SA 3.0', '2015-03-17T17:37:59.250', 87, 68, 1, 38.0, 'CC BY-SA 3.0', '2015-03-17T17:39:11.160', 88, 68, 0, 38.0, 'CC BY-SA 3.0', '2015-03-17T17:41:09.660', 89, 14, 0, 81.0, 'CC BY-SA 3.0', '2015-03-17T17:54:18.383', 91, 78, 1, 38.0, 'CC BY-SA 3.0', '2015-03-17T17:55:19.580', 92, 70, 0, 68.0, 'CC BY-SA 3.0', '2015-03-17T17:57:59.473', 93, 63, 1, 14.0, 'CC BY-SA 3.0', '2015-03-17T17:58:59.747', 94, 63, 1, 14.0, 'CC BY-SA 3.0', '2015-03-17T18:00:48.113', 95, 61, 0, 43.0, 'CC BY-SA 3.0', '2015-03-17T18:06:24.367', 97, 45, 1, 49.0, 'CC BY-SA 3.0', '2015-03-17T18:07:45.620', 98, 45, 0, 27.0, 'CC BY-SA 3.0', '2015-03-17T18:17:45.097', 99, 45, 0, 74.0, 'CC BY-SA 3.0', '2015-03-17T18:19:01.150', 100, 80, 2, 38.0, 'CC BY-SA 3.0', '2015-03-17T18:23:28.697', 101, 86, 0, 38.0, 'CC BY-SA 3.0', '2015-03-17T18:23:30.007', 102, 86, 0, 94.0, 'CC BY-SA 3.0', '2015-03-17T18:23:38.087', 103, 28, 0, 74.0, 'CC BY-SA 3.0', '2015-03-17T18:26:31.750', 104, 67, 2, 25.0, 'CC BY-SA 3.0', '2015-03-17T18:28:36.710', 105, 73, 1, 81.0, 'CC BY-SA 3.0', '2015-03-17T18:29:18.817', 106, 67, 0, 31.0, 'CC BY-SA 3.0', '2015-03-17T18:32:15.140', 107, 88, 3, 6.0, 'CC BY-SA 3.0', '2015-03-17T18:36:25.957', 108, 88, 2, 31.0, 'CC BY-SA 3.0', '2015-03-17T18:46:07.030', 109, 72, 1, 31.0, 'CC BY-SA 3.0', '2015-03-17T18:49:33.583', 110, 80, 1, 31.0, 'CC BY-SA 3.0', '2015-03-17T18:56:22.473', 111, 96, 1, 38.0)]\n(Background on this error at: https://sqlalche.me/e/14/f405)"
     ]
    }
   ],
   "source": [
    "woodworking['comments'].to_sql('comments', con=con, if_exists='append', index=False, chunksize=100, method='multi')"
   ]
  },
  {
   "cell_type": "code",
   "execution_count": 172,
   "metadata": {},
   "outputs": [],
   "source": [
    "woodworking['posthistory'].drop(columns=['posthistory_revisionguid', 'posthistory_text','posthistory_userdisplayname', 'posthistory_comment'], inplace=True)"
   ]
  },
  {
   "cell_type": "code",
   "execution_count": null,
   "metadata": {},
   "outputs": [],
   "source": [
    "woodworking['posthistory'].to_sql('posthistory', con=con, if_exists='append', index=False, chunksize=100, method='multi')"
   ]
  },
  {
   "cell_type": "code",
   "execution_count": null,
   "metadata": {},
   "outputs": [],
   "source": [
    "woodworking['postlinks'].to_sql('postlinks', con=con, if_exists='append', index=False, chunksize=200, method='multi')"
   ]
  },
  {
   "cell_type": "code",
   "execution_count": null,
   "metadata": {},
   "outputs": [],
   "source": [
    "woodworking['posts'].drop(columns=['posts_body', 'posts_title', 'posts_tags'], inplace=True)"
   ]
  },
  {
   "cell_type": "code",
   "execution_count": null,
   "metadata": {},
   "outputs": [],
   "source": [
    "woodworking['posts'].to_sql('posts', con=con, if_exists='append', index=False, chunksize=100, method='multi')"
   ]
  },
  {
   "cell_type": "code",
   "execution_count": null,
   "metadata": {},
   "outputs": [],
   "source": [
    "woodworking['tags'].to_sql('tags', con=con, if_exists='append', index=False, chunksize=100, method='multi')"
   ]
  },
  {
   "cell_type": "code",
   "execution_count": null,
   "metadata": {},
   "outputs": [],
   "source": [
    "woodworking['users'].drop(columns=['users_aboutme', 'users_location', 'users_profileimageurl', 'users_websiteurl'], inplace=True)"
   ]
  },
  {
   "cell_type": "code",
   "execution_count": null,
   "metadata": {},
   "outputs": [],
   "source": [
    "woodworking['users'].to_sql('users', con=con, if_exists='append', index=False, chunksize=100, method='multi')"
   ]
  },
  {
   "cell_type": "code",
   "execution_count": null,
   "metadata": {},
   "outputs": [],
   "source": [
    "woodworking['votes'].to_sql('votes', con=con, if_exists='append', index=False, chunksize=100, method='multi')"
   ]
  }
 ],
 "metadata": {
  "kernelspec": {
   "display_name": "Python 3.7.13 ('ticketswap-assignment')",
   "language": "python",
   "name": "python3"
  },
  "language_info": {
   "codemirror_mode": {
    "name": "ipython",
    "version": 3
   },
   "file_extension": ".py",
   "mimetype": "text/x-python",
   "name": "python",
   "nbconvert_exporter": "python",
   "pygments_lexer": "ipython3",
   "version": "3.7.13"
  },
  "orig_nbformat": 4,
  "vscode": {
   "interpreter": {
    "hash": "18906d930e6f2b4ff224c34919210404520a7ba4303eb9a872256e3654d3fa16"
   }
  }
 },
 "nbformat": 4,
 "nbformat_minor": 2
}
